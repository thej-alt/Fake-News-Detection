{
 "cells": [
  {
   "cell_type": "markdown",
   "id": "b68552ad-4198-463f-ac41-dbefd7dfc35e",
   "metadata": {},
   "source": [
    "# 📰 Fake News Detection using NLP & Logistic Regression\n",
    "\n",
    "This project builds a machine learning model to classify news articles as **Fake** or **Real**  \n",
    "using **TF-IDF Vectorization** and **Logistic Regression**.\n",
    "\n",
    "📌 Workflow:\n",
    "1. Load Dataset\n",
    "2. Preprocess & Split Data\n",
    "3. Vectorize with TF-IDF\n",
    "4. Train Logistic Regression Model (with GridSearchCV)\n",
    "5. Evaluate (Accuracy, Classification Report, Confusion Matrix)\n",
    "6. Predict custom inputs with confidence scores and threshold\n",
    "7. Showcase results for README\n"
   ]
  },
  {
   "cell_type": "code",
   "execution_count": 34,
   "id": "a659644d-f737-45a7-9277-2b456e4fa7c9",
   "metadata": {},
   "outputs": [
    {
     "name": "stdout",
     "output_type": "stream",
     "text": [
      "Libraries Imported Successfully!\n"
     ]
    }
   ],
   "source": [
    "import pandas as pd\n",
    "import numpy as np\n",
    "import matplotlib.pyplot as plt\n",
    "import seaborn as sns\n",
    "\n",
    "from sklearn.model_selection import train_test_split, GridSearchCV\n",
    "from sklearn.feature_extraction.text import TfidfVectorizer\n",
    "from sklearn.linear_model import LogisticRegression\n",
    "from sklearn.metrics import accuracy_score, classification_report, confusion_matrix\n",
    "from IPython.display import display, Markdown\n",
    "from sklearn.naive_bayes import MultinomialNB\n",
    "\n",
    "print(\"Libraries Imported Successfully!\")\n"
   ]
  },
  {
   "cell_type": "code",
   "execution_count": 23,
   "id": "16e7f59f-4951-4502-9d53-026c26cdf581",
   "metadata": {},
   "outputs": [
    {
     "name": "stdout",
     "output_type": "stream",
     "text": [
      "Dataset Loaded. Shape: (44898, 5)\n"
     ]
    },
    {
     "data": {
      "text/html": [
       "<div>\n",
       "<style scoped>\n",
       "    .dataframe tbody tr th:only-of-type {\n",
       "        vertical-align: middle;\n",
       "    }\n",
       "\n",
       "    .dataframe tbody tr th {\n",
       "        vertical-align: top;\n",
       "    }\n",
       "\n",
       "    .dataframe thead th {\n",
       "        text-align: right;\n",
       "    }\n",
       "</style>\n",
       "<table border=\"1\" class=\"dataframe\">\n",
       "  <thead>\n",
       "    <tr style=\"text-align: right;\">\n",
       "      <th></th>\n",
       "      <th>title</th>\n",
       "      <th>text</th>\n",
       "      <th>subject</th>\n",
       "      <th>date</th>\n",
       "      <th>label</th>\n",
       "    </tr>\n",
       "  </thead>\n",
       "  <tbody>\n",
       "    <tr>\n",
       "      <th>0</th>\n",
       "      <td>As U.S. budget fight looms, Republicans flip t...</td>\n",
       "      <td>WASHINGTON (Reuters) - The head of a conservat...</td>\n",
       "      <td>politicsNews</td>\n",
       "      <td>December 31, 2017</td>\n",
       "      <td>1</td>\n",
       "    </tr>\n",
       "    <tr>\n",
       "      <th>1</th>\n",
       "      <td>U.S. military to accept transgender recruits o...</td>\n",
       "      <td>WASHINGTON (Reuters) - Transgender people will...</td>\n",
       "      <td>politicsNews</td>\n",
       "      <td>December 29, 2017</td>\n",
       "      <td>1</td>\n",
       "    </tr>\n",
       "    <tr>\n",
       "      <th>2</th>\n",
       "      <td>Senior U.S. Republican senator: 'Let Mr. Muell...</td>\n",
       "      <td>WASHINGTON (Reuters) - The special counsel inv...</td>\n",
       "      <td>politicsNews</td>\n",
       "      <td>December 31, 2017</td>\n",
       "      <td>1</td>\n",
       "    </tr>\n",
       "    <tr>\n",
       "      <th>3</th>\n",
       "      <td>FBI Russia probe helped by Australian diplomat...</td>\n",
       "      <td>WASHINGTON (Reuters) - Trump campaign adviser ...</td>\n",
       "      <td>politicsNews</td>\n",
       "      <td>December 30, 2017</td>\n",
       "      <td>1</td>\n",
       "    </tr>\n",
       "    <tr>\n",
       "      <th>4</th>\n",
       "      <td>Trump wants Postal Service to charge 'much mor...</td>\n",
       "      <td>SEATTLE/WASHINGTON (Reuters) - President Donal...</td>\n",
       "      <td>politicsNews</td>\n",
       "      <td>December 29, 2017</td>\n",
       "      <td>1</td>\n",
       "    </tr>\n",
       "  </tbody>\n",
       "</table>\n",
       "</div>"
      ],
      "text/plain": [
       "                                               title  \\\n",
       "0  As U.S. budget fight looms, Republicans flip t...   \n",
       "1  U.S. military to accept transgender recruits o...   \n",
       "2  Senior U.S. Republican senator: 'Let Mr. Muell...   \n",
       "3  FBI Russia probe helped by Australian diplomat...   \n",
       "4  Trump wants Postal Service to charge 'much mor...   \n",
       "\n",
       "                                                text       subject  \\\n",
       "0  WASHINGTON (Reuters) - The head of a conservat...  politicsNews   \n",
       "1  WASHINGTON (Reuters) - Transgender people will...  politicsNews   \n",
       "2  WASHINGTON (Reuters) - The special counsel inv...  politicsNews   \n",
       "3  WASHINGTON (Reuters) - Trump campaign adviser ...  politicsNews   \n",
       "4  SEATTLE/WASHINGTON (Reuters) - President Donal...  politicsNews   \n",
       "\n",
       "                 date  label  \n",
       "0  December 31, 2017       1  \n",
       "1  December 29, 2017       1  \n",
       "2  December 31, 2017       1  \n",
       "3  December 30, 2017       1  \n",
       "4  December 29, 2017       1  "
      ]
     },
     "execution_count": 23,
     "metadata": {},
     "output_type": "execute_result"
    }
   ],
   "source": [
    "true_df = pd.read_csv(\"True.csv\")\n",
    "fake_df = pd.read_csv(\"Fake.csv\")\n",
    "\n",
    "true_df[\"label\"] = 1\n",
    "fake_df[\"label\"] = 0\n",
    "\n",
    "data = pd.concat([true_df, fake_df], axis=0).reset_index(drop=True)\n",
    "print(\"Dataset Loaded. Shape:\", data.shape)\n",
    "data.head()\n"
   ]
  },
  {
   "cell_type": "code",
   "execution_count": 24,
   "id": "607b8589-8b38-4d95-93a9-00d9bf94ea39",
   "metadata": {},
   "outputs": [
    {
     "name": "stdout",
     "output_type": "stream",
     "text": [
      "Training Samples: 35918 Testing Samples: 8980\n"
     ]
    }
   ],
   "source": [
    "data = data.sample(frac=1, random_state=42).reset_index(drop=True)\n",
    "X = data[\"text\"]\n",
    "y = data[\"label\"]\n",
    "\n",
    "X_train, X_test, y_train, y_test = train_test_split(\n",
    "    X, y, test_size=0.2, random_state=42, stratify=y\n",
    ")\n",
    "print(\"Training Samples:\", len(X_train), \"Testing Samples:\", len(X_test))\n"
   ]
  },
  {
   "cell_type": "code",
   "execution_count": 25,
   "id": "315273ff-58cc-48f3-a46e-de9da11183d1",
   "metadata": {},
   "outputs": [
    {
     "name": "stdout",
     "output_type": "stream",
     "text": [
      "TF-IDF Complete. Shape: (35918, 3351766)\n"
     ]
    }
   ],
   "source": [
    "vectorizer = TfidfVectorizer(stop_words=\"english\", max_df=0.7, ngram_range=(1,2))\n",
    "X_train_tfidf = vectorizer.fit_transform(X_train)\n",
    "X_test_tfidf = vectorizer.transform(X_test)\n",
    "print(\"TF-IDF Complete. Shape:\", X_train_tfidf.shape)\n"
   ]
  },
  {
   "cell_type": "code",
   "execution_count": 26,
   "id": "00c432f2-123a-4426-99c1-cd6945f6adc8",
   "metadata": {},
   "outputs": [
    {
     "name": "stdout",
     "output_type": "stream",
     "text": [
      "Both models trained successfully!\n"
     ]
    }
   ],
   "source": [
    "# Logistic Regression\n",
    "lr_model = LogisticRegression(max_iter=1000, class_weight=\"balanced\")\n",
    "lr_model.fit(X_train_tfidf, y_train)\n",
    "\n",
    "# Multinomial Naive Bayes\n",
    "nb_model = MultinomialNB()\n",
    "nb_model.fit(X_train_tfidf, y_train)\n",
    "\n",
    "print(\"Both models trained successfully!\")\n"
   ]
  },
  {
   "cell_type": "code",
   "execution_count": 27,
   "id": "b0517200-1130-4cd5-abd6-4c17f75df3f2",
   "metadata": {},
   "outputs": [
    {
     "name": "stdout",
     "output_type": "stream",
     "text": [
      "Ensemble Accuracy: 97.51%\n",
      "              precision    recall  f1-score   support\n",
      "\n",
      "        Fake       0.99      0.97      0.98      4696\n",
      "        Real       0.96      0.98      0.97      4284\n",
      "\n",
      "    accuracy                           0.98      8980\n",
      "   macro avg       0.97      0.98      0.98      8980\n",
      "weighted avg       0.98      0.98      0.98      8980\n",
      "\n"
     ]
    },
    {
     "data": {
      "image/png": "[encoded data removed]",
      "text/plain": [
       "<Figure size 600x400 with 2 Axes>"
      ]
     },
     "metadata": {},
     "output_type": "display_data"
    }
   ],
   "source": [
    "# Weighted average of probabilities\n",
    "lr_probs = lr_model.predict_proba(X_test_tfidf)\n",
    "nb_probs = nb_model.predict_proba(X_test_tfidf)\n",
    "\n",
    "# Ensemble: 0.6*LR + 0.4*NB (adjustable weights)\n",
    "ensemble_probs = 0.6*lr_probs + 0.4*nb_probs\n",
    "y_pred_ensemble = np.argmax(ensemble_probs, axis=1)\n",
    "\n",
    "# Evaluation\n",
    "acc = accuracy_score(y_test, y_pred_ensemble)\n",
    "print(f\"Ensemble Accuracy: {acc:.2%}\")\n",
    "print(classification_report(y_test, y_pred_ensemble, target_names=[\"Fake\", \"Real\"]))\n",
    "\n",
    "cm = confusion_matrix(y_test, y_pred_ensemble)\n",
    "plt.figure(figsize=(6,4))\n",
    "sns.heatmap(cm, annot=True, fmt=\"d\", cmap=\"Blues\",\n",
    "            xticklabels=[\"Fake\", \"Real\"], yticklabels=[\"Fake\", \"Real\"])\n",
    "plt.xlabel(\"Predicted Label\")\n",
    "plt.ylabel(\"True Label\")\n",
    "plt.title(\"Confusion Matrix - Ensemble\")\n",
    "plt.show()\n"
   ]
  },
  {
   "cell_type": "code",
   "execution_count": 28,
   "id": "857aa51b-a905-4a08-8a0c-a94081070a70",
   "metadata": {},
   "outputs": [],
   "source": [
    "def predict_news(text):\n",
    "    text_tfidf = vectorizer.transform([text])\n",
    "    \n",
    "    lr_prob = lr_model.predict_proba(text_tfidf)[0]\n",
    "    nb_prob = nb_model.predict_proba(text_tfidf)[0]\n",
    "    \n",
    "    # Weighted ensemble\n",
    "    combined_prob = 0.6*lr_prob + 0.4*nb_prob\n",
    "    pred = np.argmax(combined_prob)\n",
    "    confidence = np.max(combined_prob) * 100\n",
    "    \n",
    "    if confidence < 55:\n",
    "        label = \"Prediction Uncertain – Possibly Fake or Real\"\n",
    "    else:\n",
    "        label = \"Real News\" if pred == 1 else \"Fake News\"\n",
    "    \n",
    "    return f\"{label} (Confidence: {confidence:.2f}%)\"\n"
   ]
  },
  {
   "cell_type": "code",
   "execution_count": 29,
   "id": "88ca64a9-fcd4-4961-9ea9-a107794189a4",
   "metadata": {},
   "outputs": [
    {
     "name": "stdout",
     "output_type": "stream",
     "text": [
      "Input: The government has announced new policies to improve healthcare.\n",
      "Prediction: Real News (Confidence: 60.66%)\n"
     ]
    },
    {
     "name": "stdin",
     "output_type": "stream",
     "text": [
      "Enter a news headline/article:  government imposed punishments on street vendors\n"
     ]
    },
    {
     "name": "stdout",
     "output_type": "stream",
     "text": [
      "Prediction: Prediction Uncertain – Possibly Fake or Real (Confidence: 54.84%)\n"
     ]
    }
   ],
   "source": [
    "sample_text = \"The government has announced new policies to improve healthcare.\"\n",
    "print(\"Input:\", sample_text)\n",
    "print(\"Prediction:\", predict_news(sample_text))\n",
    "\n",
    "user_input = input(\"Enter a news headline/article: \")\n",
    "print(\"Prediction:\", predict_news(user_input))\n"
   ]
  },
  {
   "cell_type": "code",
   "execution_count": 30,
   "id": "b291399c-3114-43be-9f7e-fb7ec4cd51e2",
   "metadata": {},
   "outputs": [
    {
     "data": {
      "text/markdown": [
       "\n",
       "# 🏆 Fake News Detection Results (Ensemble)\n",
       "\n",
       "- **Models**: Logistic Regression + Naive Bayes  \n",
       "- **Vectorization**: TF-IDF (Unigrams + Bigrams)  \n",
       "- **Accuracy**: `97.51%`  \n",
       "- **Dataset Size**: 44898 articles  \n",
       "- **Evaluation**: Precision, Recall, F1-score, Confusion Matrix  \n",
       "\n",
       "✅ Improved performance: fewer misclassifications of real news\n"
      ],
      "text/plain": [
       "<IPython.core.display.Markdown object>"
      ]
     },
     "metadata": {},
     "output_type": "display_data"
    }
   ],
   "source": [
    "acc_percent = acc * 100\n",
    "\n",
    "results_text = f\"\"\"\n",
    "# 🏆 Fake News Detection Results (Ensemble)\n",
    "\n",
    "- **Models**: Logistic Regression + Naive Bayes  \n",
    "- **Vectorization**: TF-IDF (Unigrams + Bigrams)  \n",
    "- **Accuracy**: `{acc_percent:.2f}%`  \n",
    "- **Dataset Size**: {len(data)} articles  \n",
    "- **Evaluation**: Precision, Recall, F1-score, Confusion Matrix  \n",
    "\n",
    "✅ Improved performance: fewer misclassifications of real news\n",
    "\"\"\"\n",
    "\n",
    "display(Markdown(results_text))\n"
   ]
  },
  {
   "cell_type": "code",
   "execution_count": 31,
   "id": "0a9748bb-8882-4865-bac5-d490dcd1691d",
   "metadata": {},
   "outputs": [],
   "source": [
    "def predict_with_keywords(text, top_n=5):\n",
    "    \"\"\"\n",
    "    Predict Fake/Real News and display top contributing keywords.\n",
    "    \"\"\"\n",
    "    text_tfidf = vectorizer.transform([text])\n",
    "    \n",
    "    # Ensemble probabilities\n",
    "    lr_prob = lr_model.predict_proba(text_tfidf)[0]\n",
    "    nb_prob = nb_model.predict_proba(text_tfidf)[0]\n",
    "    combined_prob = 0.6*lr_prob + 0.4*nb_prob\n",
    "    \n",
    "    pred = np.argmax(combined_prob)\n",
    "    confidence = np.max(combined_prob) * 100\n",
    "    \n",
    "    # Label\n",
    "    if confidence < 55:\n",
    "        label = \"Prediction Uncertain – Possibly Fake or Real\"\n",
    "    else:\n",
    "        label = \"Real News\" if pred == 1 else \"Fake News\"\n",
    "    \n",
    "    # Feature importance for LR (NB doesn’t have simple feature weights)\n",
    "    feature_array = np.array(vectorizer.get_feature_names_out())\n",
    "    lr_coef = lr_model.coef_[0]\n",
    "    # Multiply by TF-IDF value to get contribution\n",
    "    tfidf_array = text_tfidf.toarray()[0]\n",
    "    contributions = lr_coef * tfidf_array\n",
    "    top_idx = contributions.argsort()[-top_n:][::-1]\n",
    "    top_keywords = feature_array[top_idx]\n",
    "    \n",
    "    return f\"{label} (Confidence: {confidence:.2f}%)\", list(top_keywords)\n"
   ]
  },
  {
   "cell_type": "code",
   "execution_count": 33,
   "id": "85ef124c-e4c7-42da-a738-d73037b4fb44",
   "metadata": {},
   "outputs": [
    {
     "name": "stdout",
     "output_type": "stream",
     "text": [
      "Input: The government has announced new policies to improve healthcare.\n",
      "Prediction: Real News (Confidence: 60.66%)\n",
      "Top Keywords influencing prediction: ['government', 'healthcare', 'new', 'improve', 'policies']\n"
     ]
    },
    {
     "name": "stdin",
     "output_type": "stream",
     "text": [
      "Enter a news headline/article:  government has announced new policies to improve healthcare.\n"
     ]
    },
    {
     "name": "stdout",
     "output_type": "stream",
     "text": [
      "Prediction: Real News (Confidence: 60.66%)\n",
      "Top Keywords influencing prediction: ['government', 'healthcare', 'new', 'improve', 'policies']\n"
     ]
    }
   ],
   "source": [
    "sample_text = \"The government has announced new policies to improve healthcare.\"\n",
    "prediction, keywords = predict_with_keywords(sample_text)\n",
    "print(\"Input:\", sample_text)\n",
    "print(\"Prediction:\", prediction)\n",
    "print(\"Top Keywords influencing prediction:\", keywords)\n",
    "\n",
    "user_input = input(\"Enter a news headline/article: \")\n",
    "prediction, keywords = predict_with_keywords(user_input)\n",
    "print(\"Prediction:\", prediction)\n",
    "print(\"Top Keywords influencing prediction:\", keywords)\n"
   ]
  }
 ],
 "metadata": {
  "kernelspec": {
   "display_name": "Python [conda env:base] *",
   "language": "python",
   "name": "conda-base-py"
  },
  "language_info": {
   "codemirror_mode": {
    "name": "ipython",
    "version": 3
   },
   "file_extension": ".py",
   "mimetype": "text/x-python",
   "name": "python",
   "nbconvert_exporter": "python",
   "pygments_lexer": "ipython3",
   "version": "3.13.5"
  }
 },
 "nbformat": 4,
 "nbformat_minor": 5
}
